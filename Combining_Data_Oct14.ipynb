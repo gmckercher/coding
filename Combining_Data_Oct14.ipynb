{
 "cells": [
  {
   "cell_type": "code",
   "execution_count": 1,
   "metadata": {
    "collapsed": false
   },
   "outputs": [],
   "source": [
    "import pandas as pd\n",
    "import numpy as np\n",
    "from datetime import datetime as dt\n",
    "import datetime\n",
    "import csv\n",
    "sck = pd.read_csv('SCK/Oct14.csv')\n",
    "#air = pd.read_table('AirIQ/Nov2.TXT')\n",
    "fs = pd.read_csv('FallKit_fixedsite/Oct14_5s.csv',skiprows=[0,2,3])\n",
    "gps = pd.read_csv('GPS rides/Oct14/Oct14.csv',skiprows=19)"
   ]
  },
  {
   "cell_type": "markdown",
   "metadata": {},
   "source": [
    "## PART 1) \n",
    "### reading in"
   ]
  },
  {
   "cell_type": "code",
   "execution_count": 2,
   "metadata": {
    "collapsed": true
   },
   "outputs": [],
   "source": [
    "# functions for conversions\n",
    "get_datetime = lambda s: datetime.datetime.strptime(s, \"%Y-%m-%d %H:%M:%S\")\n",
    "get_datetime1 = lambda s: datetime.datetime.strptime(s, \"%m/%d/%y %H:%M\")\n",
    "from_datetime = lambda s: datetime.datetime.strftime(s, '%Y-%m-%d %H:%M:%S')"
   ]
  },
  {
   "cell_type": "code",
   "execution_count": 3,
   "metadata": {
    "collapsed": false
   },
   "outputs": [],
   "source": [
    "# correcting the sck and fs times (adding on the seconds) and making it an array\n",
    "def convert_time(var):\n",
    "    string = []\n",
    "    stime = []\n",
    "    for i in range(0,len(var)):\n",
    "        string = str(var[i])\n",
    "        sck_dt = get_datetime1(string)\n",
    "        stime = np.append(sck_dt,stime)\n",
    "\n",
    "    # adding in the 5s intervals into the sck data and converting to appropriate format\n",
    "    de = []\n",
    "    for i in range(len(stime)):\n",
    "        stime[i] = stime[i-1] + datetime.timedelta(seconds=5)\n",
    "        xs = from_datetime(stime[i])\n",
    "        de = np.append(xs,de)\n",
    "    sck_5s = de\n",
    "    sck_5s = sck_5s[::-1]\n",
    "    return sck_5s"
   ]
  },
  {
   "cell_type": "code",
   "execution_count": 4,
   "metadata": {
    "collapsed": false
   },
   "outputs": [],
   "source": [
    "fs_time = fs['TIMESTAMP'][:]\n",
    "sck_time = sck[' UTC']\n",
    "xf = convert_time(fs_time)\n",
    "xs = convert_time(sck_time)"
   ]
  },
  {
   "cell_type": "code",
   "execution_count": 5,
   "metadata": {
    "collapsed": false
   },
   "outputs": [],
   "source": [
    "# taking out the garbage (T and Z) from the gps times\n",
    "gps_ntime = []\n",
    "for i in range(541): # this range gets us ride of the NaNs at the bottom\n",
    "    noT = gps['Time'][i].replace('T',' ')\n",
    "    noZ = noT.replace('Z','')\n",
    "    gps_ntime = np.append(noZ,gps_ntime)\n",
    "    \n",
    "gtime = gps_ntime[::-1] # reversed"
   ]
  },
  {
   "cell_type": "code",
   "execution_count": 6,
   "metadata": {
    "collapsed": false
   },
   "outputs": [],
   "source": [
    "# shifting the GPS times\n",
    "# changing arrays to and from datetimes so we can make a time change\n",
    "\n",
    "gtime_adj = []\n",
    "for i in range(len(gtime)):\n",
    "    gobe = datetime.datetime.strptime(gtime[i],'%Y-%m-%d %H:%M:%S')\n",
    "    gtime_adj = np.append(gobe,gtime_adj)\n",
    "gnew = gtime_adj + datetime.timedelta(hours=-5) # shift hours\n",
    "xg = []\n",
    "for i in range(len(gnew)):\n",
    "    string = from_datetime(gnew[i])\n",
    "    xg = np.append(string,xg)"
   ]
  },
  {
   "cell_type": "code",
   "execution_count": 7,
   "metadata": {
    "collapsed": true
   },
   "outputs": [],
   "source": [
    "# start and end of all in the same format with adjusted dates and times\n",
    "def status(array):\n",
    "    print 'Start =',min(array),'  End =',max(array),'  Length =', len(array)"
   ]
  },
  {
   "cell_type": "code",
   "execution_count": 8,
   "metadata": {
    "collapsed": false
   },
   "outputs": [
    {
     "name": "stdout",
     "output_type": "stream",
     "text": [
      "Start = 2015-10-14 15:09:08   End = 2015-10-14 15:50:10   Length = 541\n",
      "\n",
      "Start = 2015-10-14 14:33:05   End = 2015-10-14 15:58:45   Length = 1029\n",
      "Start = 2015-10-14 15:01:05   End = 2015-10-14 16:00:25   Length = 713\n"
     ]
    }
   ],
   "source": [
    "status(xg) # match with this!\n",
    "print ''\n",
    "status(xs)\n",
    "status(xf)"
   ]
  },
  {
   "cell_type": "markdown",
   "metadata": {},
   "source": [
    "### notice that the sck and fs times match up perfectly for these slices"
   ]
  },
  {
   "cell_type": "code",
   "execution_count": 9,
   "metadata": {
    "collapsed": false
   },
   "outputs": [
    {
     "name": "stdout",
     "output_type": "stream",
     "text": [
      "Start = 2015-10-14 15:09:08   End = 2015-10-14 15:50:10   Length = 541\n",
      "\n",
      "Start = 2015-10-14 15:09:05   End = 2015-10-14 15:50:10   Length = 494\n",
      "Start = 2015-10-14 15:09:05   End = 2015-10-14 15:50:10   Length = 494\n"
     ]
    }
   ],
   "source": [
    "# Lets trim to same intervals\n",
    "status(xg[:])\n",
    "print ''\n",
    "status(xs[432:926])\n",
    "status(xf[96:590]) "
   ]
  },
  {
   "cell_type": "code",
   "execution_count": 10,
   "metadata": {
    "collapsed": false
   },
   "outputs": [],
   "source": [
    "xst = xs[432:926] \n",
    "xft = xf[96:590] \n",
    "xgt = xg[:]"
   ]
  },
  {
   "cell_type": "markdown",
   "metadata": {},
   "source": [
    "## PART 2) \n",
    "### I use the gps time to match up with the combined sck/fs time to make all data match"
   ]
  },
  {
   "cell_type": "code",
   "execution_count": 11,
   "metadata": {
    "collapsed": true
   },
   "outputs": [],
   "source": [
    "def find_close(sck_array,com_array,minimum,maximum):\n",
    "    '''inputs a base array of numpy datetimes from two arrays and \n",
    "    finds which of the values in the second array is closest to the first\n",
    "    REALLY CLOSE TIMES WILL GIVE DIFFERENT BASE TIMES FOR THE SAME COMPARISON TIME because we \n",
    "    want all the gps times and to match with closest data each time. some code from:\n",
    "    http://stackoverflow.com/questions/17249220/getting-the-closest-date-to-a-given-date'''\n",
    "    \n",
    "    get_datetime = lambda s: datetime.datetime.strptime(s, \"%Y-%m-%d %H:%M:%S\")\n",
    "    \n",
    "    sck_time = []\n",
    "    com_time = []\n",
    "    for i in range(minimum,maximum):\n",
    "        sck_date = sck_array[i]\n",
    "        kit = get_datetime(sck_date)\n",
    "        later = filter(lambda d: get_datetime(d) >= kit, com_array)\n",
    "        closest_date = min(later, key = lambda d: get_datetime(d))\n",
    "        sck_time = np.append(sck_date,sck_time)\n",
    "        com_time = np.append(closest_date,com_time)\n",
    "    return sck_time[::-1], com_time[::-1]"
   ]
  },
  {
   "cell_type": "code",
   "execution_count": 12,
   "metadata": {
    "collapsed": false
   },
   "outputs": [],
   "source": [
    "one, two = find_close(xgt,xft,0,len(xgt))"
   ]
  },
  {
   "cell_type": "code",
   "execution_count": 13,
   "metadata": {
    "collapsed": false
   },
   "outputs": [],
   "source": [
    "# adding titles to columns\n",
    "gpstime = []\n",
    "sckfstime = []\n",
    "gpstime = np.append('gps_time',one)\n",
    "sckfstime = np.append('sck_fs_time',two)"
   ]
  },
  {
   "cell_type": "code",
   "execution_count": 32,
   "metadata": {
    "collapsed": false
   },
   "outputs": [
    {
     "name": "stdout",
     "output_type": "stream",
     "text": [
      "Start = 2015-10-14 15:09:08   End = 2015-10-14 15:50:10   Length = 541\n",
      "Start = 2015-10-14 15:09:10   End = 2015-10-14 15:50:10   Length = 541\n"
     ]
    }
   ],
   "source": [
    "status(gpstime[1:])\n",
    "status(sckfstime[1:])"
   ]
  },
  {
   "cell_type": "markdown",
   "metadata": {
    "collapsed": true
   },
   "source": [
    "### Finding which indecies of combined are in ctime (closest). These indecies can be used to grab all data for match"
   ]
  },
  {
   "cell_type": "code",
   "execution_count": null,
   "metadata": {
    "collapsed": true
   },
   "outputs": [],
   "source": [
    "# indecies of com to take to match gtime\n",
    "indemic = []\n",
    "for i in range(0,len(xft)):\n",
    "    pal = get_datetime(xft[i])\n",
    "    for j in range(0,len(two)):\n",
    "        gal = get_datetime(two[j])\n",
    "        if pal == gal:\n",
    "            indemic = np.append(i,indemic)\n",
    "        else:\n",
    "            pass\n",
    "indemic = indemic[::-1]"
   ]
  },
  {
   "cell_type": "code",
   "execution_count": 84,
   "metadata": {
    "collapsed": false
   },
   "outputs": [],
   "source": [
    "sck_shift = indemic+431 # SHIFT FOR SCK DATA"
   ]
  },
  {
   "cell_type": "markdown",
   "metadata": {},
   "source": [
    "#### SCK columns"
   ]
  },
  {
   "cell_type": "code",
   "execution_count": 85,
   "metadata": {
    "collapsed": true
   },
   "outputs": [],
   "source": [
    "def sck_match(var,indemic,title,unit):\n",
    "    new = [var[i] for i in indemic]\n",
    "    new = new*unit \n",
    "    new = np.append(title,new) # title of column\n",
    "    return new"
   ]
  },
  {
   "cell_type": "code",
   "execution_count": 86,
   "metadata": {
    "collapsed": false
   },
   "outputs": [],
   "source": [
    "sck_co = sck[' Carbon Monxide ( kOhm) ']\n",
    "sck_co = sck_match(sck_co,sck_shift,'sck_COppm',1)\n",
    "sck_no2 = sck[' Nitrogen Dioxide ( kOhm) ']\n",
    "sck_no2 = sck_match(sck_no2,sck_shift,'sck_NO2ppm',1)"
   ]
  },
  {
   "cell_type": "code",
   "execution_count": 87,
   "metadata": {
    "collapsed": true
   },
   "outputs": [],
   "source": [
    "import matplotlib.pyplot as plt\n",
    "%matplotlib inline"
   ]
  },
  {
   "cell_type": "code",
   "execution_count": 88,
   "metadata": {
    "collapsed": false
   },
   "outputs": [
    {
     "data": {
      "text/plain": [
       "[<matplotlib.lines.Line2D at 0x10bcabc90>]"
      ]
     },
     "execution_count": 88,
     "metadata": {},
     "output_type": "execute_result"
    },
    {
     "data": {
      "image/png": "[encoded data removed]",
      "text/plain": [
       "<matplotlib.figure.Figure at 0x10bae0050>"
      ]
     },
     "metadata": {},
     "output_type": "display_data"
    }
   ],
   "source": [
    "plt.plot(sck_co[1:])"
   ]
  },
  {
   "cell_type": "markdown",
   "metadata": {},
   "source": [
    "#### FS columns"
   ]
  },
  {
   "cell_type": "code",
   "execution_count": 89,
   "metadata": {
    "collapsed": true
   },
   "outputs": [],
   "source": [
    "def fs_match(var,ind,title,unit,unit2):\n",
    "    new = np.array(var[:]) # to np array for new indecies\n",
    "    new = (new*unit)+unit2 # unit conversion\n",
    "    new2 = []\n",
    "    new2 = np.append(title,new2) # add title\n",
    "    for index in ind:\n",
    "        new2 = np.append(new[index],new2)\n",
    "    return new2[::-1]"
   ]
  },
  {
   "cell_type": "code",
   "execution_count": 90,
   "metadata": {
    "collapsed": true
   },
   "outputs": [],
   "source": [
    "fs_shift = indemic+95 # SHIFT FOR FS DATA"
   ]
  },
  {
   "cell_type": "code",
   "execution_count": 91,
   "metadata": {
    "collapsed": false
   },
   "outputs": [],
   "source": [
    "fs_no2 = fs['NO2']\n",
    "fs_no2 = fs_match(fs_no2,fs_shift,'fs_NO2ppm',1,0) \n",
    "fs_co = fs['CO']\n",
    "fs_co = fs_match(fs_co,fs_shift,'fs_COppm',1,0) \n",
    "fs_o3 = fs['O3']\n",
    "fs_o3 = fs_match(fs_o3,fs_shift,'fs_O3ppm',1,0) \n",
    "fs_voc = fs['VOC']\n",
    "fs_voc = fs_match(fs_voc,fs_shift,'fs_VOCppm',1,0) \n",
    "fs_temp = fs['AirTC']\n",
    "fs_temp = fs_match(fs_temp,fs_shift,'fs_TempF',1.8,32)\n",
    "fs_rh = fs['RH']\n",
    "fs_rh = fs_match(fs_rh,fs_shift,'fs_RH%',1,0)\n",
    "fs_sol = fs['Up_FlxSlrMJ_Tot']\n",
    "fs_sol = fs_match(fs_sol,fs_shift,'fs_SolarW',100000,0)\n",
    "fs_ref = fs['Down_TFlxSlrMJ_Tot']\n",
    "fs_ref = fs_match(fs_ref,fs_shift,'fs_ReflectW',100000,0)\n",
    "fs_ws = fs['WS_ms_2']\n",
    "fs_ws = fs_match(fs_ws,fs_shift,'fs_WSmph',2.23694,0)\n",
    "fs_wd = fs['WindDir']\n",
    "fs_wd = fs_match(fs_wd,fs_shift,'fs_WDdeg',1,0) "
   ]
  },
  {
   "cell_type": "markdown",
   "metadata": {},
   "source": [
    "#### GPS columns"
   ]
  },
  {
   "cell_type": "code",
   "execution_count": 92,
   "metadata": {
    "collapsed": false
   },
   "outputs": [],
   "source": [
    "lat = gps['Latitude']\n",
    "gps_lat = np.append('gps_lat',lat)\n",
    "lon = gps['Longitude']\n",
    "gps_lon = np.append('gps_lon',lon)\n",
    "dist = gps['DistanceMeters']\n",
    "gps_dist = np.append('gps_dist',dist)\n",
    "spd = gps['speed (mph)']\n",
    "gps_spd = np.append('gps_spd',spd)\n",
    "alt = gps['AltitudeMeters']\n",
    "gps_alt = np.append('gps_alt',alt)"
   ]
  },
  {
   "cell_type": "markdown",
   "metadata": {},
   "source": [
    "### fixedsite location"
   ]
  },
  {
   "cell_type": "code",
   "execution_count": 93,
   "metadata": {
    "collapsed": false
   },
   "outputs": [],
   "source": [
    "lat0 = 33.5783411 # need to change this to the actual location\n",
    "lon0 = -101.8954378\n",
    "# make arrays of constant lat and long for fixed site\n",
    "fs_lat = np.array([lat0]*len(gpstime))\n",
    "fs_lat = np.append('fs_Latitude',fs_lat) # add title\n",
    "fs_lon = np.array([lon0]*len(gpstime))\n",
    "fs_lon = np.append('fs_Longitude',fs_lon) # add title"
   ]
  },
  {
   "cell_type": "markdown",
   "metadata": {},
   "source": [
    "#### writing to files"
   ]
  },
  {
   "cell_type": "code",
   "execution_count": 94,
   "metadata": {
    "collapsed": false
   },
   "outputs": [],
   "source": [
    "# write to columns in .csv\n",
    "rows = zip(gpstime,sckfstime, # time information\n",
    "           gps_lat,gps_lon,gps_alt,gps_dist,gps_spd, #gps information\n",
    "           sck_co,sck_no2, # sck variables\n",
    "           fs_lat,fs_lon,fs_co,fs_no2,fs_o3,fs_voc,fs_temp,fs_rh,fs_sol,fs_ref,fs_ws,fs_wd) # fixed site variables\n",
    "with open('Oct14_combo.csv', 'wb') as f:\n",
    "    writer = csv.writer(f)\n",
    "    for row in rows:\n",
    "        writer.writerow(row)"
   ]
  },
  {
   "cell_type": "code",
   "execution_count": null,
   "metadata": {
    "collapsed": true
   },
   "outputs": [],
   "source": []
  }
 ],
 "metadata": {
  "kernelspec": {
   "display_name": "Python 2",
   "language": "python",
   "name": "python2"
  },
  "language_info": {
   "codemirror_mode": {
    "name": "ipython",
    "version": 2
   },
   "file_extension": ".py",
   "mimetype": "text/x-python",
   "name": "python",
   "nbconvert_exporter": "python",
   "pygments_lexer": "ipython2",
   "version": "2.7.10"
  }
 },
 "nbformat": 4,
 "nbformat_minor": 0
}
